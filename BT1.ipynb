{
  "nbformat": 4,
  "nbformat_minor": 0,
  "metadata": {
    "colab": {
      "provenance": []
    },
    "kernelspec": {
      "name": "python3",
      "display_name": "Python 3"
    },
    "language_info": {
      "name": "python"
    }
  },
  "cells": [
    {
      "cell_type": "code",
      "execution_count": null,
      "metadata": {
        "colab": {
          "base_uri": "https://localhost:8080/"
        },
        "id": "_Q8dz7BrYpaL",
        "outputId": "ba8fa1dd-165a-497c-cdd0-a2cd9f3cd2e1"
      },
      "outputs": [
        {
          "output_type": "stream",
          "name": "stdout",
          "text": [
            "6974b3be6c355d6a17ed92d3a1dd6e0d3f815b65ed7b4de65bb548713b402d72\n"
          ]
        }
      ],
      "source": [
        "from typing import List\n",
        "import hashlib\n",
        "\n",
        "class Node:\n",
        "    def __init__(self, left: 'Node', right: 'Node', value: str) -> None:\n",
        "        self.left: Node = left\n",
        "        self.right: Node = right\n",
        "        self.value = value\n",
        "\n",
        "    @staticmethod\n",
        "    def hash(val: str) -> str:\n",
        "        return hashlib.sha256(val.encode('utf-8')).hexdigest()\n",
        "\n",
        "    @staticmethod\n",
        "    def doubleHash(val: str) -> str:\n",
        "        return Node.hash(Node.hash(val))\n",
        "\n",
        "class MerkleTree:\n",
        "    def __init__(self, values: List[str]) -> None:\n",
        "        self.buildTree(values)\n",
        "\n",
        "    def buildTree(self, values: List[str]) -> None:\n",
        "        leaves: List[Node] = [Node(None, None, Node.doubleHash(e)) for e in values]\n",
        "        if len(leaves) % 2 == 1:\n",
        "            leaves.append(leaves[-1])  # duplicate last element if odd number of elements\n",
        "        self.root: Node = self.buildTreeRec(leaves)\n",
        "\n",
        "    def buildTreeRec(self, nodes: List[Node]) -> Node:\n",
        "        half: int = len(nodes) // 2\n",
        "        if len(nodes) == 2:\n",
        "            return Node(nodes[0], nodes[1], Node.doubleHash(nodes[0].value + nodes[1].value))\n",
        "        left: Node = self.buildTreeRec(nodes[:half])\n",
        "        right: Node = self.buildTreeRec(nodes[half:])\n",
        "        value: str = Node.doubleHash(left.value + right.value)\n",
        "        return Node(left, right, value)\n",
        "\n",
        "    def printTree(self) -> None:\n",
        "        self.printTreeRec(self.root)\n",
        "\n",
        "    def printTreeRec(self, node: 'Node') -> None:\n",
        "        if node is not None:\n",
        "            print(node.value)\n",
        "            self.printTreeRec(node.left)\n",
        "            self.printTreeRec(node.right)\n",
        "\n",
        "    def getRootHash(self) -> str:\n",
        "        return self.root.value\n",
        "\n",
        "def test() -> None:\n",
        "    elems = [\"Hello\", \"mister\", \"Merkle\", \"tree\"]\n",
        "    mtree = MerkleTree(elems)\n",
        "    print(mtree.getRootHash())\n",
        "\n",
        "test()\n"
      ]
    }
  ]
}