{
  "nbformat": 4,
  "nbformat_minor": 0,
  "metadata": {
    "colab": {
      "provenance": []
    },
    "kernelspec": {
      "name": "python3",
      "display_name": "Python 3"
    },
    "language_info": {
      "name": "python"
    }
  },
  "cells": [
    {
      "cell_type": "code",
      "source": [
        "import numpy as np\n",
        "\n",
        "num_samples = 7\n",
        "x1 = np.array([2, 4, 6, 8, 10, 12, 14])\n",
        "x2 = np.array([3, 6, 9, 12, 15, 18, 21])\n",
        "target = np.array([0, 0, 1, 1, 1, 0, 0])\n",
        "\n",
        "coef0 = 0\n",
        "coef1 = 0\n",
        "coef2 = 0\n",
        "learning_rate = 0.25\n",
        "\n",
        "threshold = 0.5\n",
        "predicted_classes = []\n",
        "\n",
        "for i in range(num_samples):\n",
        "    pred = 1 / (1 + np.exp(-coef0 - coef1 * x1[i] - coef2 * x2[i]))\n",
        "    coef0 += learning_rate * (target[i] - pred) * pred * (1 - pred) * 1\n",
        "    coef1 += learning_rate * (target[i] - pred) * pred * (1 - pred) * x1[i]\n",
        "    coef2 += learning_rate * (target[i] - pred) * pred * (1 - pred) * x2[i]\n",
        "    predicted_class = 1 if pred > threshold else 0\n",
        "    predicted_classes.append(predicted_class)\n",
        "\n",
        "print(\"x1: \", x1)\n",
        "print(\"x2: \", x2)\n",
        "print(\"Actual Class: \", target)\n",
        "print(\"Predicted Class: \", predicted_classes)\n",
        "print(\"Updated coefficients b0: \", coef0)\n",
        "print(\"Updated coefficients b1: \", coef1)\n",
        "print(\"Updated coefficients b2: \", coef2)"
      ],
      "metadata": {
        "colab": {
          "base_uri": "https://localhost:8080/"
        },
        "id": "NfESdNhpqH1r",
        "outputId": "005d1d2d-d93f-40d7-98ee-59bfff3acfe0"
      },
      "execution_count": null,
      "outputs": [
        {
          "output_type": "stream",
          "name": "stdout",
          "text": [
            "x1:  [ 2  4  6  8 10 12 14]\n",
            "x2:  [ 3  6  9 12 15 18 21]\n",
            "Actual Class:  [0 0 1 1 1 0 0]\n",
            "Predicted Class:  [0, 0, 0, 0, 1, 1, 1]\n",
            "Updated coefficients b0:  0.006098626325306414\n",
            "Updated coefficients b1:  0.26708247549670666\n",
            "Updated coefficients b2:  0.40062371324506\n"
          ]
        }
      ]
    }
  ]
}