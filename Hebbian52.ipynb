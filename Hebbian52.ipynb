{
  "nbformat": 4,
  "nbformat_minor": 0,
  "metadata": {
    "colab": {
      "provenance": []
    },
    "kernelspec": {
      "name": "python3",
      "display_name": "Python 3"
    },
    "language_info": {
      "name": "python"
    }
  },
  "cells": [
    {
      "cell_type": "code",
      "execution_count": null,
      "metadata": {
        "colab": {
          "base_uri": "https://localhost:8080/"
        },
        "id": "YNgaoF48qsvb",
        "outputId": "07c38696-6f41-4f37-d668-734ed19fba78"
      },
      "outputs": [
        {
          "output_type": "stream",
          "name": "stdout",
          "text": [
            "Initial W1, W2, b: 0 0 0\n",
            "Updated W1, W2, b: 1 1 2\n",
            "Predicted y for test point: 4\n"
          ]
        }
      ],
      "source": [
        "import numpy as np\n",
        "\n",
        "w1 = 0\n",
        "w2 = 0\n",
        "b = 0\n",
        "\n",
        "array = [\n",
        "    [0, 0, 0],\n",
        "    [0, 1, 1],\n",
        "    [1, 0, 1],\n",
        "    [1, 1, 0]\n",
        "]\n",
        "\n",
        "print(\"Initial W1, W2, b:\", w1, w2, b)\n",
        "\n",
        "for x1, x2, y in array:\n",
        "    w1 += x1 * y\n",
        "    w2 += x2 * y\n",
        "    b += y\n",
        "\n",
        "print(\"Updated W1, W2, b:\", w1, w2, b)\n",
        "\n",
        "# Assuming the last set of inputs as a test point\n",
        "x1_test, x2_test, y_test = array[-1]\n",
        "y_new = w1 * x1_test + w2 * x2_test + b\n",
        "print(\"Predicted y for test point:\", y_new)"
      ]
    }
  ]
}