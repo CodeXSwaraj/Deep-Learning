{
  "nbformat": 4,
  "nbformat_minor": 0,
  "metadata": {
    "colab": {
      "provenance": []
    },
    "kernelspec": {
      "name": "python3",
      "display_name": "Python 3"
    },
    "language_info": {
      "name": "python"
    }
  },
  "cells": [
    {
      "cell_type": "code",
      "execution_count": null,
      "metadata": {
        "id": "r4I5MRnxTvYN"
      },
      "outputs": [],
      "source": [
        "import numpy as np\n",
        "\n",
        "# Step activation function\n",
        "def step_function(x):\n",
        "    return 1 if x >= 0 else 0\n",
        "\n"
      ]
    },
    {
      "cell_type": "code",
      "source": [
        "# Perceptron function\n",
        "def perceptron(weights, bias, inputs):\n",
        "    weighted_sum = np.dot(weights, inputs) + bias\n",
        "    output = step_function(weighted_sum)\n",
        "    return output"
      ],
      "metadata": {
        "id": "XckEmOpvUHfl"
      },
      "execution_count": null,
      "outputs": []
    },
    {
      "cell_type": "code",
      "source": [
        "AND_weights = np.array([1, 1])\n",
        "AND_bias = -1.5\n",
        "OR_weights = np.array([1, 1])\n",
        "OR_bias = -0.5\n",
        "NOT_weights = np.array([-1])\n",
        "NOT_bias = 0.5"
      ],
      "metadata": {
        "id": "X0siS3HzUHdE"
      },
      "execution_count": null,
      "outputs": []
    },
    {
      "cell_type": "code",
      "source": [
        "#NOT GATE\n",
        "def NOT_gate(x):\n",
        "    return perceptron(NOT_weights, NOT_bias, np.array([x]))"
      ],
      "metadata": {
        "id": "yiG01b7hUHaF"
      },
      "execution_count": null,
      "outputs": []
    },
    {
      "cell_type": "code",
      "source": [
        "#AND GATE\n",
        "def AND_gate(x1, x2):\n",
        "  return perceptron(AND_weights, AND_bias, np.array([x1, x2]))\n"
      ],
      "metadata": {
        "id": "tRroefm5UHQ8"
      },
      "execution_count": null,
      "outputs": []
    },
    {
      "cell_type": "code",
      "source": [
        "#OR GATE\n",
        "def OR_gate(x1, x2):\n",
        "  return perceptron(OR_weights, OR_bias, np.array([x1, x2]))\n",
        "\n"
      ],
      "metadata": {
        "id": "9h_alXUGUHMk"
      },
      "execution_count": null,
      "outputs": []
    },
    {
      "cell_type": "code",
      "source": [
        "#xor gate using perceptron model\n",
        "def XOR_gate(x1, x2):\n",
        "\n",
        "    part1 = AND_gate(x1, NOT_gate(x2))\n",
        "\n",
        "    part2 = AND_gate(NOT_gate(x1), x2)\n",
        "\n",
        "    return OR_gate(part1, part2)\n",
        "\n",
        "print(\"XOR(0, 0) =\", XOR_gate(0, 0))\n",
        "print(\"XOR(0, 1) =\", XOR_gate(0, 1))\n",
        "print(\"XOR(1, 0) =\", XOR_gate(1, 0))\n",
        "print(\"XOR(1, 1) =\", XOR_gate(1, 1))\n"
      ],
      "metadata": {
        "colab": {
          "base_uri": "https://localhost:8080/"
        },
        "id": "vakVyU-xaRrE",
        "outputId": "8e11cd40-deb0-457f-f062-e2a1f7877161"
      },
      "execution_count": null,
      "outputs": [
        {
          "output_type": "stream",
          "name": "stdout",
          "text": [
            "XOR(0, 0) = 0\n",
            "XOR(0, 1) = 1\n",
            "XOR(1, 0) = 1\n",
            "XOR(1, 1) = 0\n"
          ]
        }
      ]
    },
    {
      "cell_type": "code",
      "source": [],
      "metadata": {
        "id": "4zEK0GYzaRpE"
      },
      "execution_count": null,
      "outputs": []
    },
    {
      "cell_type": "code",
      "source": [],
      "metadata": {
        "id": "GlseCNxpaRkc"
      },
      "execution_count": null,
      "outputs": []
    },
    {
      "cell_type": "code",
      "source": [],
      "metadata": {
        "id": "Jl9xsqaSUHDd"
      },
      "execution_count": null,
      "outputs": []
    }
  ]
}